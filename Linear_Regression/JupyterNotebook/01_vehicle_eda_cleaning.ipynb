{
 "cells": [
  {
   "metadata": {},
   "cell_type": "markdown",
   "source": "# VEHICLE DATA EDA + CLEANING",
   "id": "4b4b86b13e0b0a7b"
  },
  {
   "metadata": {},
   "cell_type": "markdown",
   "source": "## The aim of this Notebook is clean and do an EDA of the Dataset",
   "id": "a5b80746ab84ab93"
  },
  {
   "metadata": {},
   "cell_type": "markdown",
   "source": [
    "## Checklist rapida – EDA + Cleaning\n",
    "\n",
    "### EDA\n",
    "- [ ] Panoramica dati (`shape`, `dtypes`, `head`)\n",
    "- [ ] Statistiche descrittive (num e cat)\n",
    "- [ ] Analisi missing values\n",
    "- [ ] Distribuzione target (`price`) + valutare log-transform\n",
    "- [ ] Distribuzioni e correlazioni variabili numeriche\n",
    "- [ ] Analisi variabili categoriche (frequenze, boxplot vs `price`)\n",
    "\n",
    "### Cleaning\n",
    "- [ ] Gestione valori mancanti\n",
    "- [ ] Trattamento outlier\n",
    "- [ ] Definizione `num_cols` e `cat_cols`\n",
    "- [ ] Salvataggio `vehicles_clean.csv`\n",
    "\n"
   ],
   "id": "bc58f1000a1d2a80"
  },
  {
   "metadata": {
    "collapsed": true
   },
   "cell_type": "code",
   "outputs": [],
   "execution_count": null,
   "source": "",
   "id": "7885cebcecc48069"
  }
 ],
 "metadata": {
  "kernelspec": {
   "display_name": "Python 3",
   "language": "python",
   "name": "python3"
  },
  "language_info": {
   "codemirror_mode": {
    "name": "ipython",
    "version": 2
   },
   "file_extension": ".py",
   "mimetype": "text/x-python",
   "name": "python",
   "nbconvert_exporter": "python",
   "pygments_lexer": "ipython2",
   "version": "2.7.6"
  }
 },
 "nbformat": 4,
 "nbformat_minor": 5
}
